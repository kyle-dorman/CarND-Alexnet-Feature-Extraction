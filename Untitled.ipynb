{
 "cells": [
  {
   "cell_type": "code",
   "execution_count": 13,
   "metadata": {
    "collapsed": false
   },
   "outputs": [
    {
     "name": "stdout",
     "output_type": "stream",
     "text": [
      "[master c570a35] Autocommiting project after runnign model\n",
      " 1 file changed, 88 insertions(+), 59 deletions(-)\n",
      " rewrite Untitled.ipynb (70%)\n",
      "Counting objects: 3, done.\n",
      "Compressing objects: 100% (3/3), done.\n",
      "Writing objects: 100% (3/3), 1.42 KiB | 0 bytes/s, done.\n",
      "Total 3 (delta 1), reused 0 (delta 0)\n",
      "remote: Resolving deltas: 100% (1/1), completed with 1 local objects.\u001b[K\n",
      "To git@github.com:kyle-dorman/CarND-Alexnet-Feature-Extraction.git\n",
      "   e60fcd8..c570a35  master -> master\n"
     ]
    }
   ],
   "source": [
    "import time\n",
    "import datetime\n",
    "today = datetime.date.today()\n",
    "\n",
    "!git add *\n",
    "!git commit -m \"Autocommiting project after runnign model\"\n",
    "!git push\n",
    "\n",
    "\n"
   ]
  }
 ],
 "metadata": {
  "kernelspec": {
   "display_name": "Python 3",
   "language": "python",
   "name": "python3"
  },
  "language_info": {
   "codemirror_mode": {
    "name": "ipython",
    "version": 3
   },
   "file_extension": ".py",
   "mimetype": "text/x-python",
   "name": "python",
   "nbconvert_exporter": "python",
   "pygments_lexer": "ipython3",
   "version": "3.5.2"
  },
  "widgets": {
   "state": {},
   "version": "1.1.2"
  }
 },
 "nbformat": 4,
 "nbformat_minor": 2
}
